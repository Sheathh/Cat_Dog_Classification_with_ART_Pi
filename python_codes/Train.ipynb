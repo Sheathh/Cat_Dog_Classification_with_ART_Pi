{
 "cells": [
  {
   "cell_type": "code",
   "execution_count": 1,
   "metadata": {},
   "outputs": [],
   "source": [
    "import os\n",
    "os.environ[\"TF_MIN_CPP_LEVEL_LOG\"] = \"2\"\n",
    "import cv2\n",
    "import time\n",
    "import random\n",
    "import numpy as np\n",
    "from tqdm import tqdm\n",
    "from matplotlib import pyplot as plt\n",
    "from pathlib import Path"
   ]
  },
  {
   "cell_type": "code",
   "execution_count": 2,
   "metadata": {},
   "outputs": [
    {
     "data": {
      "text/plain": [
       "'2.5.0'"
      ]
     },
     "execution_count": 2,
     "metadata": {},
     "output_type": "execute_result"
    }
   ],
   "source": [
    "import tensorflow as tf\n",
    "from tensorflow.keras.utils import plot_model\n",
    "from tensorflow.keras.models import load_model\n",
    "from tensorflow.keras.datasets import cifar10\n",
    "from tensorflow.keras.preprocessing.image import ImageDataGenerator\n",
    "from tensorflow.keras.models import Sequential\n",
    "from tensorflow.keras.layers import Dense, Dropout, Activation, Flatten\n",
    "from tensorflow.keras.layers import Conv2D, AveragePooling2D\n",
    "\n",
    "tf.__version__"
   ]
  },
  {
   "cell_type": "code",
   "execution_count": 3,
   "metadata": {},
   "outputs": [],
   "source": [
    "DATADIR = '../Dataset'\n",
    "CATEGORIES = ['Cat', 'Dog']\n",
    "IMG_SIZE = 64"
   ]
  },
  {
   "cell_type": "code",
   "execution_count": 4,
   "metadata": {},
   "outputs": [
    {
     "name": "stderr",
     "output_type": "stream",
     "text": [
      "100%|███████████████████████████████████████████████████████████████████████████| 11808/11808 [00:19<00:00, 599.96it/s]\n",
      "100%|███████████████████████████████████████████████████████████████████████████| 12500/12500 [00:22<00:00, 564.07it/s]\n"
     ]
    }
   ],
   "source": [
    "def create_training_data():\n",
    "    training_data = []\n",
    "    for category in CATEGORIES:  \n",
    "\n",
    "        path = os.path.join(DATADIR,category) \n",
    "        class_num = CATEGORIES.index(category)  # get the classification  (0 or a 1). 0=C 1=O\n",
    "\n",
    "        for img in tqdm(os.listdir(path)):  # iterate over each image\n",
    "            try:\n",
    "                img_array = cv2.imread(os.path.join(path,img))  # convert to array\n",
    "                img_array = cv2.cvtColor(img_array, cv2.COLOR_BGR2RGB)\n",
    "                new_array = cv2.resize(img_array, (IMG_SIZE, IMG_SIZE))  # resize to normalize data size\n",
    "                training_data.append([new_array, class_num])  # add this to our training_data\n",
    "            except Exception as e:  # in the interest in keeping the output clean...\n",
    "                pass\n",
    "              \n",
    "    return training_data\n",
    "\n",
    "training_data = create_training_data()"
   ]
  },
  {
   "cell_type": "code",
   "execution_count": 5,
   "metadata": {},
   "outputs": [
    {
     "name": "stdout",
     "output_type": "stream",
     "text": [
      "data numbers: 24308\n",
      "0 1 1 0 1 "
     ]
    }
   ],
   "source": [
    "print(f\"data numbers: {len(training_data)}\")\n",
    "random.shuffle(training_data)\n",
    "for sample in training_data[:5]:\n",
    "    print(sample[1], end=\" \")"
   ]
  },
  {
   "cell_type": "code",
   "execution_count": 6,
   "metadata": {},
   "outputs": [
    {
     "data": {
      "text/plain": [
       "(24308, 64, 64, 3)"
      ]
     },
     "execution_count": 6,
     "metadata": {},
     "output_type": "execute_result"
    }
   ],
   "source": [
    "X = []\n",
    "Y = []\n",
    "\n",
    "for features, label in training_data:\n",
    "    X.append(features)\n",
    "    Y.append(label)\n",
    "\n",
    "X = np.array(X).reshape(-1, IMG_SIZE, IMG_SIZE, 3)\n",
    "X = X/255.0\n",
    "\n",
    "Y = np.array(Y)\n",
    "X.shape"
   ]
  },
  {
   "cell_type": "code",
   "execution_count": 7,
   "metadata": {},
   "outputs": [],
   "source": [
    "# # set up image augmentation\n",
    "# from keras.preprocessing.image import ImageDataGenerator\n",
    "\n",
    "# datagen = ImageDataGenerator(\n",
    "#     rotation_range=15,\n",
    "#     horizontal_flip=True,\n",
    "#     width_shift_range=0.1,\n",
    "#     height_shift_range=0.1\n",
    "#     #zoom_range=0.3\n",
    "#     )\n",
    "# datagen.fit(X)"
   ]
  },
  {
   "cell_type": "code",
   "execution_count": 8,
   "metadata": {
    "scrolled": true
   },
   "outputs": [],
   "source": [
    "model = Sequential()\n",
    "\n",
    "model.add(Conv2D(filters=16, kernel_size=(3, 3), activation='relu', input_shape=X.shape[1:]))\n",
    "model.add(AveragePooling2D())\n",
    "model.add(Dropout(0.5))\n",
    "\n",
    "model.add(Conv2D(filters=32, kernel_size=(3, 3), activation='relu'))\n",
    "model.add(AveragePooling2D())\n",
    "model.add(Dropout(0.5))\n",
    "\n",
    "model.add(Conv2D(filters=64, kernel_size=(3, 3), activation='relu'))\n",
    "model.add(AveragePooling2D())\n",
    "model.add(Dropout(0.5))\n",
    "\n",
    "model.add(Flatten())\n",
    "\n",
    "model.add(Dense(units=256, activation='relu'))\n",
    "model.add(Dropout(0.2))\n",
    "\n",
    "model.add(Dense(units=128, activation='relu'))\n",
    "\n",
    "model.add(Dense(units=2, activation = 'softmax'))\n",
    "\n",
    "model.compile(loss='sparse_categorical_crossentropy',\n",
    "              optimizer='adam',\n",
    "              metrics=['accuracy'])\n",
    "\n",
    "# model.summary()"
   ]
  },
  {
   "cell_type": "code",
   "execution_count": 9,
   "metadata": {
    "scrolled": true
   },
   "outputs": [
    {
     "name": "stdout",
     "output_type": "stream",
     "text": [
      "Epoch 1/100\n",
      "342/342 [==============================] - 21s 59ms/step - loss: 0.6757 - accuracy: 0.5610 - val_loss: 0.6557 - val_accuracy: 0.6179\n",
      "Epoch 2/100\n",
      "342/342 [==============================] - 20s 59ms/step - loss: 0.5962 - accuracy: 0.6772 - val_loss: 0.5824 - val_accuracy: 0.6911\n",
      "Epoch 3/100\n",
      "342/342 [==============================] - 20s 59ms/step - loss: 0.5624 - accuracy: 0.7057 - val_loss: 0.5581 - val_accuracy: 0.7063\n",
      "Epoch 4/100\n",
      "342/342 [==============================] - 20s 59ms/step - loss: 0.5426 - accuracy: 0.7213 - val_loss: 0.5407 - val_accuracy: 0.7244\n",
      "Epoch 5/100\n",
      "342/342 [==============================] - 20s 59ms/step - loss: 0.5288 - accuracy: 0.7304 - val_loss: 0.5305 - val_accuracy: 0.7330\n",
      "Epoch 6/100\n",
      "342/342 [==============================] - 20s 59ms/step - loss: 0.5224 - accuracy: 0.7358 - val_loss: 0.5151 - val_accuracy: 0.7413\n",
      "Epoch 7/100\n",
      "342/342 [==============================] - 20s 59ms/step - loss: 0.5118 - accuracy: 0.7439 - val_loss: 0.5476 - val_accuracy: 0.7166\n",
      "Epoch 8/100\n",
      "342/342 [==============================] - 20s 59ms/step - loss: 0.4978 - accuracy: 0.7539 - val_loss: 0.5079 - val_accuracy: 0.7408\n",
      "Epoch 9/100\n",
      "342/342 [==============================] - 20s 58ms/step - loss: 0.4838 - accuracy: 0.7655 - val_loss: 0.4982 - val_accuracy: 0.7511\n",
      "Epoch 10/100\n",
      "342/342 [==============================] - 20s 59ms/step - loss: 0.4829 - accuracy: 0.7664 - val_loss: 0.4749 - val_accuracy: 0.7696\n",
      "Epoch 11/100\n",
      "342/342 [==============================] - 20s 59ms/step - loss: 0.4702 - accuracy: 0.7717 - val_loss: 0.4803 - val_accuracy: 0.7680\n",
      "Epoch 12/100\n",
      "342/342 [==============================] - 21s 60ms/step - loss: 0.4623 - accuracy: 0.7775 - val_loss: 0.4735 - val_accuracy: 0.7664\n",
      "Epoch 13/100\n",
      "342/342 [==============================] - 21s 61ms/step - loss: 0.4629 - accuracy: 0.7754 - val_loss: 0.4593 - val_accuracy: 0.7692\n",
      "Epoch 14/100\n",
      "342/342 [==============================] - 21s 60ms/step - loss: 0.4484 - accuracy: 0.7859 - val_loss: 0.4716 - val_accuracy: 0.7602\n",
      "Epoch 15/100\n",
      "342/342 [==============================] - 21s 60ms/step - loss: 0.4428 - accuracy: 0.7906 - val_loss: 0.4334 - val_accuracy: 0.7902\n",
      "Epoch 16/100\n",
      "342/342 [==============================] - 21s 60ms/step - loss: 0.4406 - accuracy: 0.7922 - val_loss: 0.4374 - val_accuracy: 0.7828\n",
      "Epoch 17/100\n",
      "342/342 [==============================] - 21s 61ms/step - loss: 0.4354 - accuracy: 0.7949 - val_loss: 0.4308 - val_accuracy: 0.7960\n",
      "Epoch 18/100\n",
      "342/342 [==============================] - 21s 60ms/step - loss: 0.4225 - accuracy: 0.8057 - val_loss: 0.4225 - val_accuracy: 0.8013\n",
      "Epoch 19/100\n",
      "342/342 [==============================] - 21s 61ms/step - loss: 0.4269 - accuracy: 0.8017 - val_loss: 0.4618 - val_accuracy: 0.7746\n",
      "Epoch 20/100\n",
      "342/342 [==============================] - 21s 61ms/step - loss: 0.4181 - accuracy: 0.8063 - val_loss: 0.4261 - val_accuracy: 0.7902\n",
      "Epoch 21/100\n",
      "342/342 [==============================] - 21s 60ms/step - loss: 0.4106 - accuracy: 0.8110 - val_loss: 0.4170 - val_accuracy: 0.8009\n",
      "Epoch 22/100\n",
      "342/342 [==============================] - 21s 61ms/step - loss: 0.4064 - accuracy: 0.8125 - val_loss: 0.4270 - val_accuracy: 0.7984\n",
      "Epoch 23/100\n",
      "342/342 [==============================] - 21s 61ms/step - loss: 0.4005 - accuracy: 0.8171 - val_loss: 0.4161 - val_accuracy: 0.7972\n",
      "Epoch 24/100\n",
      "342/342 [==============================] - 21s 61ms/step - loss: 0.4007 - accuracy: 0.8138 - val_loss: 0.4119 - val_accuracy: 0.8079\n",
      "Epoch 25/100\n",
      "342/342 [==============================] - 21s 60ms/step - loss: 0.3923 - accuracy: 0.8188 - val_loss: 0.4079 - val_accuracy: 0.8161\n",
      "Epoch 26/100\n",
      "342/342 [==============================] - 21s 60ms/step - loss: 0.3886 - accuracy: 0.8230 - val_loss: 0.4214 - val_accuracy: 0.8021\n",
      "Epoch 27/100\n",
      "342/342 [==============================] - 21s 60ms/step - loss: 0.3872 - accuracy: 0.8253 - val_loss: 0.3908 - val_accuracy: 0.8235\n",
      "Epoch 28/100\n",
      "342/342 [==============================] - 21s 60ms/step - loss: 0.3772 - accuracy: 0.8280 - val_loss: 0.3886 - val_accuracy: 0.8202\n",
      "Epoch 29/100\n",
      "342/342 [==============================] - 21s 61ms/step - loss: 0.3738 - accuracy: 0.8300 - val_loss: 0.3897 - val_accuracy: 0.8182\n",
      "Epoch 30/100\n",
      "342/342 [==============================] - 21s 61ms/step - loss: 0.3713 - accuracy: 0.8309 - val_loss: 0.3961 - val_accuracy: 0.8071\n",
      "Epoch 31/100\n",
      "342/342 [==============================] - 21s 60ms/step - loss: 0.3643 - accuracy: 0.8359 - val_loss: 0.3951 - val_accuracy: 0.8137\n",
      "Epoch 32/100\n",
      "342/342 [==============================] - 21s 60ms/step - loss: 0.3667 - accuracy: 0.8332 - val_loss: 0.4001 - val_accuracy: 0.8108\n",
      "Epoch 33/100\n",
      "342/342 [==============================] - 20s 60ms/step - loss: 0.3628 - accuracy: 0.8356 - val_loss: 0.3809 - val_accuracy: 0.8276\n",
      "Epoch 34/100\n",
      "342/342 [==============================] - 20s 60ms/step - loss: 0.3611 - accuracy: 0.8384 - val_loss: 0.3793 - val_accuracy: 0.8252\n",
      "Epoch 35/100\n",
      "342/342 [==============================] - 20s 59ms/step - loss: 0.3534 - accuracy: 0.8419 - val_loss: 0.3921 - val_accuracy: 0.8219\n",
      "Epoch 36/100\n",
      "342/342 [==============================] - 20s 59ms/step - loss: 0.3475 - accuracy: 0.8436 - val_loss: 0.3809 - val_accuracy: 0.8211\n",
      "Epoch 37/100\n",
      "342/342 [==============================] - 20s 59ms/step - loss: 0.3422 - accuracy: 0.8459 - val_loss: 0.3817 - val_accuracy: 0.8264\n",
      "Epoch 38/100\n",
      "342/342 [==============================] - 20s 58ms/step - loss: 0.3390 - accuracy: 0.8476 - val_loss: 0.3882 - val_accuracy: 0.8293\n",
      "Epoch 39/100\n",
      "342/342 [==============================] - 20s 57ms/step - loss: 0.3430 - accuracy: 0.8464 - val_loss: 0.3910 - val_accuracy: 0.8235\n",
      "Epoch 40/100\n",
      "342/342 [==============================] - 20s 58ms/step - loss: 0.3323 - accuracy: 0.8552 - val_loss: 0.4056 - val_accuracy: 0.8190\n",
      "Epoch 41/100\n",
      "342/342 [==============================] - 20s 57ms/step - loss: 0.3345 - accuracy: 0.8503 - val_loss: 0.3797 - val_accuracy: 0.8334\n",
      "Epoch 42/100\n",
      "342/342 [==============================] - 20s 58ms/step - loss: 0.3214 - accuracy: 0.8575 - val_loss: 0.4080 - val_accuracy: 0.8161\n",
      "Epoch 43/100\n",
      "342/342 [==============================] - 20s 58ms/step - loss: 0.3258 - accuracy: 0.8546 - val_loss: 0.3809 - val_accuracy: 0.8190\n",
      "Epoch 44/100\n",
      "342/342 [==============================] - 20s 58ms/step - loss: 0.3276 - accuracy: 0.8561 - val_loss: 0.4053 - val_accuracy: 0.8206\n",
      "Epoch 45/100\n",
      "342/342 [==============================] - 20s 58ms/step - loss: 0.3165 - accuracy: 0.8626 - val_loss: 0.3828 - val_accuracy: 0.8215\n",
      "Epoch 46/100\n",
      "342/342 [==============================] - 20s 58ms/step - loss: 0.3144 - accuracy: 0.8643 - val_loss: 0.4083 - val_accuracy: 0.8091\n",
      "Epoch 47/100\n",
      "342/342 [==============================] - 20s 58ms/step - loss: 0.3109 - accuracy: 0.8630 - val_loss: 0.3933 - val_accuracy: 0.8194\n",
      "Epoch 48/100\n",
      "342/342 [==============================] - 20s 58ms/step - loss: 0.3037 - accuracy: 0.8697 - val_loss: 0.3707 - val_accuracy: 0.8318\n",
      "Epoch 49/100\n",
      "342/342 [==============================] - 20s 58ms/step - loss: 0.3062 - accuracy: 0.8679 - val_loss: 0.3836 - val_accuracy: 0.8264\n",
      "Epoch 50/100\n",
      "342/342 [==============================] - 20s 59ms/step - loss: 0.3023 - accuracy: 0.8711 - val_loss: 0.3941 - val_accuracy: 0.8231\n",
      "Epoch 51/100\n",
      "342/342 [==============================] - 20s 59ms/step - loss: 0.3035 - accuracy: 0.8684 - val_loss: 0.4020 - val_accuracy: 0.8100\n",
      "Epoch 52/100\n",
      "342/342 [==============================] - 20s 59ms/step - loss: 0.3048 - accuracy: 0.8685 - val_loss: 0.3841 - val_accuracy: 0.8264\n",
      "Epoch 53/100\n",
      "342/342 [==============================] - 20s 59ms/step - loss: 0.2908 - accuracy: 0.8737 - val_loss: 0.3883 - val_accuracy: 0.8301\n",
      "Epoch 54/100\n",
      "342/342 [==============================] - 20s 59ms/step - loss: 0.2862 - accuracy: 0.8768 - val_loss: 0.3818 - val_accuracy: 0.8313\n",
      "Epoch 55/100\n",
      "342/342 [==============================] - 20s 59ms/step - loss: 0.2831 - accuracy: 0.8815 - val_loss: 0.4121 - val_accuracy: 0.8206\n",
      "Epoch 56/100\n",
      "342/342 [==============================] - 20s 59ms/step - loss: 0.2907 - accuracy: 0.8743 - val_loss: 0.3726 - val_accuracy: 0.8363\n",
      "Epoch 57/100\n"
     ]
    },
    {
     "name": "stdout",
     "output_type": "stream",
     "text": [
      "342/342 [==============================] - 20s 58ms/step - loss: 0.2835 - accuracy: 0.8766 - val_loss: 0.3768 - val_accuracy: 0.8313\n",
      "Epoch 58/100\n",
      "342/342 [==============================] - 20s 58ms/step - loss: 0.2831 - accuracy: 0.8782 - val_loss: 0.3827 - val_accuracy: 0.8334\n",
      "Epoch 59/100\n",
      "342/342 [==============================] - 20s 58ms/step - loss: 0.2795 - accuracy: 0.8815 - val_loss: 0.3911 - val_accuracy: 0.8276\n",
      "Epoch 60/100\n",
      "342/342 [==============================] - 20s 58ms/step - loss: 0.2746 - accuracy: 0.8828 - val_loss: 0.3982 - val_accuracy: 0.8174\n",
      "Epoch 61/100\n",
      "342/342 [==============================] - 20s 58ms/step - loss: 0.2726 - accuracy: 0.8878 - val_loss: 0.3899 - val_accuracy: 0.8371\n",
      "Epoch 62/100\n",
      "342/342 [==============================] - 20s 58ms/step - loss: 0.2741 - accuracy: 0.8842 - val_loss: 0.3955 - val_accuracy: 0.8248\n",
      "Epoch 63/100\n",
      "342/342 [==============================] - 20s 58ms/step - loss: 0.2701 - accuracy: 0.8852 - val_loss: 0.3765 - val_accuracy: 0.8462\n",
      "Epoch 64/100\n",
      "342/342 [==============================] - 20s 58ms/step - loss: 0.2688 - accuracy: 0.8861 - val_loss: 0.3802 - val_accuracy: 0.8293\n",
      "Epoch 65/100\n",
      "342/342 [==============================] - 20s 59ms/step - loss: 0.2638 - accuracy: 0.8868 - val_loss: 0.3700 - val_accuracy: 0.8322\n",
      "Epoch 66/100\n",
      "342/342 [==============================] - 20s 59ms/step - loss: 0.2676 - accuracy: 0.8843 - val_loss: 0.3743 - val_accuracy: 0.8334\n",
      "Epoch 67/100\n",
      "342/342 [==============================] - 20s 58ms/step - loss: 0.2631 - accuracy: 0.8878 - val_loss: 0.3874 - val_accuracy: 0.8219\n",
      "Epoch 68/100\n",
      "342/342 [==============================] - 20s 59ms/step - loss: 0.2605 - accuracy: 0.8893 - val_loss: 0.3796 - val_accuracy: 0.8309\n",
      "Epoch 69/100\n",
      "342/342 [==============================] - 20s 59ms/step - loss: 0.2592 - accuracy: 0.8922 - val_loss: 0.3741 - val_accuracy: 0.8367\n",
      "Epoch 70/100\n",
      "342/342 [==============================] - 20s 58ms/step - loss: 0.2529 - accuracy: 0.8934 - val_loss: 0.3726 - val_accuracy: 0.8359\n",
      "Epoch 71/100\n",
      "342/342 [==============================] - 20s 58ms/step - loss: 0.2545 - accuracy: 0.8929 - val_loss: 0.3832 - val_accuracy: 0.8355\n",
      "Epoch 72/100\n",
      "342/342 [==============================] - 20s 58ms/step - loss: 0.2448 - accuracy: 0.8968 - val_loss: 0.3879 - val_accuracy: 0.8326\n",
      "Epoch 73/100\n",
      "342/342 [==============================] - 20s 57ms/step - loss: 0.2440 - accuracy: 0.8966 - val_loss: 0.3828 - val_accuracy: 0.8326\n",
      "Epoch 74/100\n",
      "342/342 [==============================] - 20s 58ms/step - loss: 0.2439 - accuracy: 0.8961 - val_loss: 0.4130 - val_accuracy: 0.8174\n",
      "Epoch 75/100\n",
      "342/342 [==============================] - 20s 58ms/step - loss: 0.2489 - accuracy: 0.8963 - val_loss: 0.3907 - val_accuracy: 0.8334\n",
      "Epoch 76/100\n",
      "342/342 [==============================] - 20s 57ms/step - loss: 0.2428 - accuracy: 0.8957 - val_loss: 0.3874 - val_accuracy: 0.8293\n",
      "Epoch 77/100\n",
      "342/342 [==============================] - 20s 58ms/step - loss: 0.2430 - accuracy: 0.8969 - val_loss: 0.3822 - val_accuracy: 0.8326\n",
      "Epoch 78/100\n",
      "342/342 [==============================] - 20s 58ms/step - loss: 0.2465 - accuracy: 0.8972 - val_loss: 0.3940 - val_accuracy: 0.8211\n",
      "Epoch 79/100\n",
      "342/342 [==============================] - 20s 58ms/step - loss: 0.2367 - accuracy: 0.9041 - val_loss: 0.3940 - val_accuracy: 0.8433\n",
      "Epoch 80/100\n",
      "342/342 [==============================] - 20s 58ms/step - loss: 0.2351 - accuracy: 0.8999 - val_loss: 0.4231 - val_accuracy: 0.8149\n",
      "Epoch 81/100\n",
      "342/342 [==============================] - 20s 58ms/step - loss: 0.2350 - accuracy: 0.9015 - val_loss: 0.3962 - val_accuracy: 0.8285\n",
      "Epoch 82/100\n",
      "342/342 [==============================] - 20s 58ms/step - loss: 0.2280 - accuracy: 0.9059 - val_loss: 0.4050 - val_accuracy: 0.8281\n",
      "Epoch 83/100\n",
      "342/342 [==============================] - 20s 58ms/step - loss: 0.2290 - accuracy: 0.9047 - val_loss: 0.4072 - val_accuracy: 0.8231\n",
      "Epoch 84/100\n",
      "342/342 [==============================] - 19s 56ms/step - loss: 0.2296 - accuracy: 0.9062 - val_loss: 0.3973 - val_accuracy: 0.8404\n",
      "Epoch 85/100\n",
      "342/342 [==============================] - 19s 56ms/step - loss: 0.2277 - accuracy: 0.9051 - val_loss: 0.3909 - val_accuracy: 0.8309\n",
      "Epoch 86/100\n",
      "342/342 [==============================] - 19s 56ms/step - loss: 0.2245 - accuracy: 0.9048 - val_loss: 0.3911 - val_accuracy: 0.8350\n",
      "Epoch 87/100\n",
      "342/342 [==============================] - 19s 57ms/step - loss: 0.2210 - accuracy: 0.9079 - val_loss: 0.4040 - val_accuracy: 0.8305\n",
      "Epoch 88/100\n",
      "342/342 [==============================] - 19s 56ms/step - loss: 0.2206 - accuracy: 0.9073 - val_loss: 0.4152 - val_accuracy: 0.8285\n",
      "Epoch 89/100\n",
      "342/342 [==============================] - 19s 56ms/step - loss: 0.2247 - accuracy: 0.9057 - val_loss: 0.3915 - val_accuracy: 0.8309\n",
      "Epoch 90/100\n",
      "342/342 [==============================] - 19s 56ms/step - loss: 0.2238 - accuracy: 0.9071 - val_loss: 0.4092 - val_accuracy: 0.8313\n",
      "Epoch 91/100\n",
      "342/342 [==============================] - 19s 56ms/step - loss: 0.2144 - accuracy: 0.9104 - val_loss: 0.4164 - val_accuracy: 0.8260\n",
      "Epoch 92/100\n",
      "342/342 [==============================] - 19s 56ms/step - loss: 0.2161 - accuracy: 0.9118 - val_loss: 0.4144 - val_accuracy: 0.8215\n",
      "Epoch 93/100\n",
      "342/342 [==============================] - 19s 56ms/step - loss: 0.2144 - accuracy: 0.9124 - val_loss: 0.4105 - val_accuracy: 0.8396\n",
      "Epoch 94/100\n",
      "342/342 [==============================] - 19s 57ms/step - loss: 0.2142 - accuracy: 0.9116 - val_loss: 0.4138 - val_accuracy: 0.8219\n",
      "Epoch 95/100\n",
      "342/342 [==============================] - 19s 57ms/step - loss: 0.2112 - accuracy: 0.9121 - val_loss: 0.4050 - val_accuracy: 0.8355\n",
      "Epoch 96/100\n",
      "342/342 [==============================] - 19s 57ms/step - loss: 0.2082 - accuracy: 0.9138 - val_loss: 0.4286 - val_accuracy: 0.8264\n",
      "Epoch 97/100\n",
      "342/342 [==============================] - 20s 57ms/step - loss: 0.2069 - accuracy: 0.9132 - val_loss: 0.3932 - val_accuracy: 0.8338\n",
      "Epoch 98/100\n",
      "342/342 [==============================] - 20s 57ms/step - loss: 0.2101 - accuracy: 0.9146 - val_loss: 0.3981 - val_accuracy: 0.8281\n",
      "Epoch 99/100\n",
      "342/342 [==============================] - 20s 57ms/step - loss: 0.2097 - accuracy: 0.9152 - val_loss: 0.4024 - val_accuracy: 0.8383\n",
      "Epoch 100/100\n",
      "342/342 [==============================] - 20s 57ms/step - loss: 0.2019 - accuracy: 0.9158 - val_loss: 0.4056 - val_accuracy: 0.8334\n"
     ]
    }
   ],
   "source": [
    "history = model.fit(X, Y, batch_size=64, epochs=100, validation_split=0.1)\n",
    "# model.fit_generator(datagen.flow(X, Y, batch_size=32),\n",
    "#                     epochs=100,\n",
    "#                     verbose=1)\n"
   ]
  },
  {
   "cell_type": "code",
   "execution_count": 10,
   "metadata": {},
   "outputs": [],
   "source": [
    "model.save('../Models/20210701.h5')"
   ]
  },
  {
   "cell_type": "code",
   "execution_count": 11,
   "metadata": {},
   "outputs": [],
   "source": [
    "# 单个测试样本数据\n",
    "test_path = \"../Images/test.jpg\"\n",
    "image = cv2.imread(test_path)\n",
    "image = cv2.resize(image, (64, 64))\n",
    "image = cv2.cvtColor(image, cv2.COLOR_BGR2RGB)\n",
    "image_bn = image.astype(\"float32\") / 255.0\n",
    "image = np.expand_dims(image, axis=0)\n",
    "image_bn = np.expand_dims(image_bn, axis=0)"
   ]
  },
  {
   "cell_type": "code",
   "execution_count": 12,
   "metadata": {
    "scrolled": false
   },
   "outputs": [
    {
     "name": "stdout",
     "output_type": "stream",
     "text": [
      "prediction: [[9.9983859e-01 1.6139554e-04]]\n",
      "time: 82.779ms\n",
      "model size: 7.47 MB\n"
     ]
    }
   ],
   "source": [
    "# 恢复 keras 模型，并预测\n",
    "keras_file = '../Models/20210701.h5'\n",
    "model = tf.keras.models.load_model(keras_file)\n",
    "# model.summary()\n",
    "# tf.autograph.set_verbosity(0)\n",
    "\n",
    "start_time = time.time()\n",
    "pred = model.predict(image_bn)\n",
    "stop_time = time.time()\n",
    "\n",
    "print(f\"prediction: {pred}\")\n",
    "print('time: {:.3f}ms'.format((stop_time - start_time) * 1000))\n",
    "print(\"model size: {:.2f} MB\".format(os.path.getsize(keras_file)/1024/1024))"
   ]
  },
  {
   "cell_type": "code",
   "execution_count": 13,
   "metadata": {
    "scrolled": true
   },
   "outputs": [],
   "source": [
    "# plot_model(model, to_file='model_small.png', show_layer_names=False, show_shapes=True)"
   ]
  },
  {
   "cell_type": "code",
   "execution_count": 14,
   "metadata": {},
   "outputs": [
    {
     "name": "stdout",
     "output_type": "stream",
     "text": [
      "INFO:tensorflow:Assets written to: C:\\Users\\Sheat\\AppData\\Local\\Temp\\tmpl4i8k_dc\\assets\n"
     ]
    },
    {
     "data": {
      "text/plain": [
       "656360"
      ]
     },
     "execution_count": 14,
     "metadata": {},
     "output_type": "execute_result"
    }
   ],
   "source": [
    "# quantize int\n",
    "\n",
    "def representative_data_gen():\n",
    "  for input_value in X[:100]:\n",
    "    input_value = np.expand_dims(input_value, axis=0)\n",
    "    input_value = input_value.astype(np.float32)\n",
    "    yield [input_value]\n",
    "\n",
    "converter = tf.lite.TFLiteConverter.from_keras_model(model)\n",
    "converter.optimizations = [tf.lite.Optimize.DEFAULT]\n",
    "converter.representative_dataset = representative_data_gen\n",
    "# Ensure that if any ops can't be quantized, the converter throws an error\n",
    "\n",
    "tflite_model = converter.convert()\n",
    "\n",
    "tflite_file = Path(\"../Models/Tflites/CDC_half.tflite\")\n",
    "tflite_file.write_bytes(tflite_model)"
   ]
  },
  {
   "cell_type": "code",
   "execution_count": 15,
   "metadata": {},
   "outputs": [
    {
     "name": "stdout",
     "output_type": "stream",
     "text": [
      "prediction: [[0.99609375 0.        ]]\n",
      "time: 56.847ms\n",
      "model size: 0.63 MB\n"
     ]
    }
   ],
   "source": [
    "# tflite 模型推理\n",
    "\n",
    "interpreter = tf.lite.Interpreter(model_path=str(tflite_file))\n",
    "interpreter.allocate_tensors()\n",
    "\n",
    "# Get input and output tensors.\n",
    "input_details = interpreter.get_input_details()[0]\n",
    "output_details = interpreter.get_output_details()[0]\n",
    "\n",
    "interpreter.set_tensor(input_details['index'], image_bn)\n",
    "\n",
    "start_time = time.time()\n",
    "interpreter.invoke()\n",
    "stop_time = time.time()\n",
    "\n",
    "output_data = interpreter.get_tensor(output_details['index'])\n",
    "print(f\"prediction: {output_data}\")\n",
    "print('time: {:.3f}ms'.format((stop_time - start_time) * 1000))\n",
    "print(\"model size: {:.2f} MB\".format(os.path.getsize(tflite_file)/1024/1024))"
   ]
  },
  {
   "cell_type": "code",
   "execution_count": 16,
   "metadata": {},
   "outputs": [
    {
     "name": "stdout",
     "output_type": "stream",
     "text": [
      "(100, 64, 64, 3)\n"
     ]
    }
   ],
   "source": [
    "print(X[:100].shape)"
   ]
  },
  {
   "cell_type": "code",
   "execution_count": 17,
   "metadata": {},
   "outputs": [
    {
     "name": "stdout",
     "output_type": "stream",
     "text": [
      "INFO:tensorflow:Assets written to: C:\\Users\\Sheat\\AppData\\Local\\Temp\\tmpchtknqml\\assets\n"
     ]
    },
    {
     "name": "stderr",
     "output_type": "stream",
     "text": [
      "INFO:tensorflow:Assets written to: C:\\Users\\Sheat\\AppData\\Local\\Temp\\tmpchtknqml\\assets\n",
      "WARNING:absl:For model inputs containing unsupported operations which cannot be quantized, the `inference_input_type` attribute will default to the original type.\n"
     ]
    },
    {
     "data": {
      "text/plain": [
       "656432"
      ]
     },
     "execution_count": 17,
     "metadata": {},
     "output_type": "execute_result"
    }
   ],
   "source": [
    "# quantize int\n",
    "\n",
    "def representative_data_gen():\n",
    "  for input_value in X[:100]:\n",
    "    input_value = np.expand_dims(input_value, axis=0)\n",
    "    input_value = input_value.astype(np.float32)\n",
    "    yield [input_value]\n",
    "\n",
    "converter = tf.lite.TFLiteConverter.from_keras_model(model)\n",
    "converter.optimizations = [tf.lite.Optimize.DEFAULT]\n",
    "converter.representative_dataset = representative_data_gen\n",
    "# Ensure that if any ops can't be quantized, the converter throws an error\n",
    "converter.target_spec.supported_ops = [tf.lite.OpsSet.TFLITE_BUILTINS_INT8]\n",
    "# Set the input and output tensors to uint8 (APIs added in r2.3)\n",
    "converter.inference_input_type = tf.uint8\n",
    "converter.inference_output_type = tf.uint8\n",
    "\n",
    "tflite_model = converter.convert()\n",
    "\n",
    "tflite_file = Path(\"../Models/Tflites/CDC.tflite\")\n",
    "tflite_file.write_bytes(tflite_model)"
   ]
  },
  {
   "cell_type": "code",
   "execution_count": 18,
   "metadata": {},
   "outputs": [
    {
     "name": "stdout",
     "output_type": "stream",
     "text": [
      "input:  <class 'numpy.uint8'>\n",
      "output:  <class 'numpy.uint8'>\n"
     ]
    }
   ],
   "source": [
    "interpreter = tf.lite.Interpreter(model_content=tflite_model)\n",
    "input_type = interpreter.get_input_details()[0]['dtype']\n",
    "print('input: ', input_type)\n",
    "output_type = interpreter.get_output_details()[0]['dtype']\n",
    "print('output: ', output_type)"
   ]
  },
  {
   "cell_type": "code",
   "execution_count": 19,
   "metadata": {},
   "outputs": [
    {
     "name": "stdout",
     "output_type": "stream",
     "text": [
      "prediction: [[255   0]]\n",
      "time: 56.848ms\n",
      "model size: 0.63 MB\n"
     ]
    }
   ],
   "source": [
    "# tflite 模型推理\n",
    "tflite_file = Path(\"../Models/Tflites/CDC.tflite\")\n",
    "interpreter = tf.lite.Interpreter(model_path=str(tflite_file))\n",
    "interpreter.allocate_tensors()\n",
    "\n",
    "# Get input and output tensors.\n",
    "input_details = interpreter.get_input_details()[0]\n",
    "output_details = interpreter.get_output_details()[0]\n",
    "\n",
    "interpreter.set_tensor(input_details['index'], image)\n",
    "\n",
    "start_time = time.time()\n",
    "interpreter.invoke()\n",
    "stop_time = time.time()\n",
    "\n",
    "output_data = interpreter.get_tensor(output_details['index'])\n",
    "print(f\"prediction: {output_data}\")\n",
    "print('time: {:.3f}ms'.format((stop_time - start_time) * 1000))\n",
    "print(\"model size: {:.2f} MB\".format(os.path.getsize(tflite_file)/1024/1024))"
   ]
  }
 ],
 "metadata": {
  "kernelspec": {
   "display_name": "Python 3",
   "language": "python",
   "name": "python3"
  },
  "language_info": {
   "codemirror_mode": {
    "name": "ipython",
    "version": 3
   },
   "file_extension": ".py",
   "mimetype": "text/x-python",
   "name": "python",
   "nbconvert_exporter": "python",
   "pygments_lexer": "ipython3",
   "version": "3.8.8"
  }
 },
 "nbformat": 4,
 "nbformat_minor": 2
}
